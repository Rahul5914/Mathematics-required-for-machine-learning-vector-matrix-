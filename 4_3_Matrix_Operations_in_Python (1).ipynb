{
  "nbformat": 4,
  "nbformat_minor": 0,
  "metadata": {
    "colab": {
      "provenance": []
    },
    "kernelspec": {
      "name": "python3",
      "display_name": "Python 3"
    },
    "language_info": {
      "name": "python"
    }
  },
  "cells": [
    {
      "cell_type": "markdown",
      "source": [
        "By Rahul kumar 💻 ✈\n",
        "\n",
        "github - https://github.com/Rahul5914\n",
        "\n",
        "youtube - https://youtube.com/@biharwaleenginner?si=n-b4mPbcUZ35wt7P\n",
        "\n",
        "linkedin - https://www.linkedin.com/in/rahul-kumar-3829b322a/\n",
        "\n",
        "instagram: - @therahul5914"
      ],
      "metadata": {
        "id": "JReKCCkig6SG"
      }
    },
    {
      "cell_type": "markdown",
      "source": [
        "Importing Numpy Library"
      ],
      "metadata": {
        "id": "QlvVWHVOmeF9"
      }
    },
    {
      "cell_type": "code",
      "execution_count": null,
      "metadata": {
        "id": "-bCY7mv7mTZ2"
      },
      "outputs": [],
      "source": [
        "import numpy as np"
      ]
    },
    {
      "cell_type": "markdown",
      "source": [
        "Matrix Addition\n",
        "\n",
        "Two Matrices can be added only if they have the same shape"
      ],
      "metadata": {
        "id": "gT9mfWEQmpTp"
      }
    },
    {
      "cell_type": "code",
      "source": [
        "# creating two matrices\n",
        "\n",
        "A = np.array([[2,3],[4,5]])\n",
        "\n",
        "B = np.array([[6,7],[8,9]])"
      ],
      "metadata": {
        "id": "qzLb6vGXmiDZ"
      },
      "execution_count": null,
      "outputs": []
    },
    {
      "cell_type": "code",
      "source": [
        "print(A)"
      ],
      "metadata": {
        "colab": {
          "base_uri": "https://localhost:8080/"
        },
        "id": "8C9K7g1DmsCU",
        "outputId": "b311d438-fe48-469f-d205-11b611fe5215"
      },
      "execution_count": null,
      "outputs": [
        {
          "output_type": "stream",
          "name": "stdout",
          "text": [
            "[[2 3]\n",
            " [4 5]]\n"
          ]
        }
      ]
    },
    {
      "cell_type": "code",
      "source": [
        "print(B)"
      ],
      "metadata": {
        "colab": {
          "base_uri": "https://localhost:8080/"
        },
        "id": "FIo9T39Fmugc",
        "outputId": "abf0768e-fd41-4d3d-ddf2-958ae17bc6e4"
      },
      "execution_count": null,
      "outputs": [
        {
          "output_type": "stream",
          "name": "stdout",
          "text": [
            "[[6 7]\n",
            " [8 9]]\n"
          ]
        }
      ]
    },
    {
      "cell_type": "code",
      "source": [
        "A.shape"
      ],
      "metadata": {
        "colab": {
          "base_uri": "https://localhost:8080/"
        },
        "id": "lPSvM441mwmW",
        "outputId": "e056882b-e776-436b-8e24-b1efa034140d"
      },
      "execution_count": null,
      "outputs": [
        {
          "output_type": "execute_result",
          "data": {
            "text/plain": [
              "(2, 2)"
            ]
          },
          "metadata": {},
          "execution_count": 5
        }
      ]
    },
    {
      "cell_type": "code",
      "source": [
        "B.shape"
      ],
      "metadata": {
        "colab": {
          "base_uri": "https://localhost:8080/"
        },
        "id": "NsQSxgavmzWQ",
        "outputId": "61d18c1b-3551-4322-ab26-2ddb07c9c0c6"
      },
      "execution_count": null,
      "outputs": [
        {
          "output_type": "execute_result",
          "data": {
            "text/plain": [
              "(2, 2)"
            ]
          },
          "metadata": {},
          "execution_count": 6
        }
      ]
    },
    {
      "cell_type": "markdown",
      "source": [
        "Adding two Matrices"
      ],
      "metadata": {
        "id": "nE1SILhIm4Wo"
      }
    },
    {
      "cell_type": "code",
      "source": [
        "sum = A + B"
      ],
      "metadata": {
        "id": "RyxblA_Xm03Q"
      },
      "execution_count": null,
      "outputs": []
    },
    {
      "cell_type": "code",
      "source": [
        "print(sum)"
      ],
      "metadata": {
        "colab": {
          "base_uri": "https://localhost:8080/"
        },
        "id": "zm8gH9G0m8U6",
        "outputId": "6f14edd5-ab4e-4bc3-97f0-0e6fe6e6b7c0"
      },
      "execution_count": null,
      "outputs": [
        {
          "output_type": "stream",
          "name": "stdout",
          "text": [
            "[[ 8 10]\n",
            " [12 14]]\n"
          ]
        }
      ]
    },
    {
      "cell_type": "code",
      "source": [
        "# create two matrices with random values\n",
        "matrix_1 = np.random.randint(10, size=(3,3))\n",
        "matrix_2 = np.random.randint(20, size=(3,3))"
      ],
      "metadata": {
        "id": "RcoXC2bTm-xN"
      },
      "execution_count": null,
      "outputs": []
    },
    {
      "cell_type": "code",
      "source": [
        "print(matrix_1)"
      ],
      "metadata": {
        "colab": {
          "base_uri": "https://localhost:8080/"
        },
        "id": "DQDh18P_nDe7",
        "outputId": "b2e7df68-3242-45d4-cbd9-89f9e755c069"
      },
      "execution_count": null,
      "outputs": [
        {
          "output_type": "stream",
          "name": "stdout",
          "text": [
            "[[9 0 5]\n",
            " [8 0 7]\n",
            " [9 0 9]]\n"
          ]
        }
      ]
    },
    {
      "cell_type": "code",
      "source": [
        "print(matrix_2)"
      ],
      "metadata": {
        "colab": {
          "base_uri": "https://localhost:8080/"
        },
        "id": "LAE9QAt0nGTu",
        "outputId": "a0741615-17e8-4cc9-a717-03809c7c9f96"
      },
      "execution_count": null,
      "outputs": [
        {
          "output_type": "stream",
          "name": "stdout",
          "text": [
            "[[ 6  3 11]\n",
            " [ 5  2 16]\n",
            " [11  4  6]]\n"
          ]
        }
      ]
    },
    {
      "cell_type": "code",
      "source": [
        "sum = np.add(matrix_1, matrix_2)"
      ],
      "metadata": {
        "id": "buQsVrkrnIx4"
      },
      "execution_count": null,
      "outputs": []
    },
    {
      "cell_type": "code",
      "source": [
        "print(sum)"
      ],
      "metadata": {
        "colab": {
          "base_uri": "https://localhost:8080/"
        },
        "id": "vwCdmeFSnLwm",
        "outputId": "b8a7de03-da28-4e09-ae19-d0b9d1d74106"
      },
      "execution_count": null,
      "outputs": [
        {
          "output_type": "stream",
          "name": "stdout",
          "text": [
            "[[15  3 16]\n",
            " [13  2 23]\n",
            " [20  4 15]]\n"
          ]
        }
      ]
    },
    {
      "cell_type": "code",
      "source": [
        "# create two matrices with random values\n",
        "matrix_3 = np.random.randint(10, size=(3,3))\n",
        "matrix_4 = np.random.randint(20, size=(3,4))"
      ],
      "metadata": {
        "id": "dVB14okNnOhm"
      },
      "execution_count": null,
      "outputs": []
    },
    {
      "cell_type": "code",
      "source": [
        "sum_2 = np.add(matrix_3, matrix_4)"
      ],
      "metadata": {
        "colab": {
          "base_uri": "https://localhost:8080/",
          "height": 141
        },
        "id": "VHVEgG0bnRy1",
        "outputId": "4ca5bf16-580b-4cb0-e042-1b2d11dd17d9"
      },
      "execution_count": null,
      "outputs": [
        {
          "output_type": "error",
          "ename": "ValueError",
          "evalue": "operands could not be broadcast together with shapes (3,3) (3,4) ",
          "traceback": [
            "\u001b[0;31m---------------------------------------------------------------------------\u001b[0m",
            "\u001b[0;31mValueError\u001b[0m                                Traceback (most recent call last)",
            "\u001b[0;32m<ipython-input-15-111b1087f6e8>\u001b[0m in \u001b[0;36m<cell line: 0>\u001b[0;34m()\u001b[0m\n\u001b[0;32m----> 1\u001b[0;31m \u001b[0msum_2\u001b[0m \u001b[0;34m=\u001b[0m \u001b[0mnp\u001b[0m\u001b[0;34m.\u001b[0m\u001b[0madd\u001b[0m\u001b[0;34m(\u001b[0m\u001b[0mmatrix_3\u001b[0m\u001b[0;34m,\u001b[0m \u001b[0mmatrix_4\u001b[0m\u001b[0;34m)\u001b[0m\u001b[0;34m\u001b[0m\u001b[0;34m\u001b[0m\u001b[0m\n\u001b[0m",
            "\u001b[0;31mValueError\u001b[0m: operands could not be broadcast together with shapes (3,3) (3,4) "
          ]
        }
      ]
    },
    {
      "cell_type": "markdown",
      "source": [
        "We get this error because shape of matrix_3 and matrix_4 are different\n",
        "\n",
        "size = 3,3 both have to equal not 3,4"
      ],
      "metadata": {
        "id": "M0dg5sBqnq3B"
      }
    },
    {
      "cell_type": "markdown",
      "source": [
        "**Matrix Subtraction**"
      ],
      "metadata": {
        "id": "Ogf80wvpnuR4"
      }
    },
    {
      "cell_type": "code",
      "source": [
        "# creating two matrices\n",
        "\n",
        "A = np.array([[2,3],[4,5]])\n",
        "\n",
        "B = np.array([[6,7],[8,9]])"
      ],
      "metadata": {
        "id": "Yo3nnOH4nUlb"
      },
      "execution_count": null,
      "outputs": []
    },
    {
      "cell_type": "code",
      "source": [
        "print(A)"
      ],
      "metadata": {
        "colab": {
          "base_uri": "https://localhost:8080/"
        },
        "id": "GbNTXzs6nylA",
        "outputId": "1533ebf0-cd4e-4ed5-9dc5-4e7c21e82475"
      },
      "execution_count": null,
      "outputs": [
        {
          "output_type": "stream",
          "name": "stdout",
          "text": [
            "[[2 3]\n",
            " [4 5]]\n"
          ]
        }
      ]
    },
    {
      "cell_type": "code",
      "source": [
        "print(B)"
      ],
      "metadata": {
        "colab": {
          "base_uri": "https://localhost:8080/"
        },
        "id": "t4dfSvHsoCiK",
        "outputId": "95f3068d-7f7c-478a-b54d-7de24b023593"
      },
      "execution_count": null,
      "outputs": [
        {
          "output_type": "stream",
          "name": "stdout",
          "text": [
            "[[6 7]\n",
            " [8 9]]\n"
          ]
        }
      ]
    },
    {
      "cell_type": "code",
      "source": [
        "difference = A - B"
      ],
      "metadata": {
        "id": "GR0SKz9pohIk"
      },
      "execution_count": null,
      "outputs": []
    },
    {
      "cell_type": "code",
      "source": [
        "print(difference)"
      ],
      "metadata": {
        "colab": {
          "base_uri": "https://localhost:8080/"
        },
        "id": "w3VsvkzSoFED",
        "outputId": "ab0936bb-d096-4a69-9f67-ee9e37d68883"
      },
      "execution_count": null,
      "outputs": [
        {
          "output_type": "stream",
          "name": "stdout",
          "text": [
            "[[-4 -4]\n",
            " [-4 -4]]\n"
          ]
        }
      ]
    },
    {
      "cell_type": "code",
      "source": [
        "# create two matrices with random values\n",
        "matrix_1 = np.random.randint(10, size=(3,3))\n",
        "matrix_2 = np.random.randint(20, size=(3,3))"
      ],
      "metadata": {
        "id": "TQuYjHxMoMYR"
      },
      "execution_count": null,
      "outputs": []
    },
    {
      "cell_type": "code",
      "source": [
        "print(matrix_1)"
      ],
      "metadata": {
        "colab": {
          "base_uri": "https://localhost:8080/"
        },
        "id": "4HPKfNHoomZH",
        "outputId": "cc77ea36-5119-47d0-b44a-153af7ce82ce"
      },
      "execution_count": null,
      "outputs": [
        {
          "output_type": "stream",
          "name": "stdout",
          "text": [
            "[[3 3 7]\n",
            " [1 6 4]\n",
            " [7 1 5]]\n"
          ]
        }
      ]
    },
    {
      "cell_type": "code",
      "source": [
        "print(matrix_2)"
      ],
      "metadata": {
        "colab": {
          "base_uri": "https://localhost:8080/"
        },
        "id": "5AyV2woLoqkv",
        "outputId": "2a6a0253-e484-47f5-e0e6-db6fe9477956"
      },
      "execution_count": null,
      "outputs": [
        {
          "output_type": "stream",
          "name": "stdout",
          "text": [
            "[[13 15  6]\n",
            " [ 9  5 18]\n",
            " [11  0  6]]\n"
          ]
        }
      ]
    },
    {
      "cell_type": "code",
      "source": [
        "diff = np.subtract(matrix_1, matrix_2)"
      ],
      "metadata": {
        "id": "z8m0f6xUoxAt"
      },
      "execution_count": null,
      "outputs": []
    },
    {
      "cell_type": "code",
      "source": [
        "print(diff)"
      ],
      "metadata": {
        "colab": {
          "base_uri": "https://localhost:8080/"
        },
        "id": "G13Cw475o0m9",
        "outputId": "68e1481d-9f22-4fad-c406-0520b4dfd7d7"
      },
      "execution_count": null,
      "outputs": [
        {
          "output_type": "stream",
          "name": "stdout",
          "text": [
            "[[-10 -12   1]\n",
            " [ -8   1 -14]\n",
            " [ -4   1  -1]]\n"
          ]
        }
      ]
    },
    {
      "cell_type": "markdown",
      "source": [
        "**Multiplying a matrix by a scalar**"
      ],
      "metadata": {
        "id": "K2RXAY2lo6Ui"
      }
    },
    {
      "cell_type": "code",
      "source": [
        "x = 5\n",
        "y = np.random.randint(10, size=(4,4))\n",
        "\n",
        "print(y)"
      ],
      "metadata": {
        "colab": {
          "base_uri": "https://localhost:8080/"
        },
        "id": "tTJRa4X-o3LG",
        "outputId": "8fd6bdc7-6575-4092-da9b-eec61967b216"
      },
      "execution_count": null,
      "outputs": [
        {
          "output_type": "stream",
          "name": "stdout",
          "text": [
            "[[1 9 9 2]\n",
            " [9 8 1 8]\n",
            " [4 4 2 5]\n",
            " [0 9 8 9]]\n"
          ]
        }
      ]
    },
    {
      "cell_type": "code",
      "source": [
        "product = np.multiply(x,y)"
      ],
      "metadata": {
        "id": "OtaJGnS7o_KI"
      },
      "execution_count": null,
      "outputs": []
    },
    {
      "cell_type": "code",
      "source": [
        "print(product)"
      ],
      "metadata": {
        "colab": {
          "base_uri": "https://localhost:8080/"
        },
        "id": "hLrl5mWTpCeq",
        "outputId": "0678797f-8bb9-4a6d-a930-624baa9818d6"
      },
      "execution_count": null,
      "outputs": [
        {
          "output_type": "stream",
          "name": "stdout",
          "text": [
            "[[ 5 45 45 10]\n",
            " [45 40  5 40]\n",
            " [20 20 10 25]\n",
            " [ 0 45 40 45]]\n"
          ]
        }
      ]
    },
    {
      "cell_type": "markdown",
      "source": [
        "Multiplying 2 Matrices"
      ],
      "metadata": {
        "id": "bCYIR4UDpJss"
      }
    },
    {
      "cell_type": "code",
      "source": [
        "# create two matrices with random values\n",
        "matrix_3 = np.random.randint(5, size=(3,3))\n",
        "matrix_4 = np.random.randint(5, size=(3,4))"
      ],
      "metadata": {
        "id": "fTxKEYrPpFQy"
      },
      "execution_count": null,
      "outputs": []
    },
    {
      "cell_type": "code",
      "source": [
        "print(matrix_3)"
      ],
      "metadata": {
        "colab": {
          "base_uri": "https://localhost:8080/"
        },
        "id": "rAcDH4FmpNlX",
        "outputId": "7319803f-e65e-4504-b77c-6869b7246e63"
      },
      "execution_count": null,
      "outputs": [
        {
          "output_type": "stream",
          "name": "stdout",
          "text": [
            "[[0 1 2]\n",
            " [2 1 4]\n",
            " [1 0 0]]\n"
          ]
        }
      ]
    },
    {
      "cell_type": "code",
      "source": [
        "print(matrix_4)"
      ],
      "metadata": {
        "colab": {
          "base_uri": "https://localhost:8080/"
        },
        "id": "29FqdLrgpRG5",
        "outputId": "26c80ccd-854e-402b-8711-7a81259b2df2"
      },
      "execution_count": null,
      "outputs": [
        {
          "output_type": "stream",
          "name": "stdout",
          "text": [
            "[[4 4 3 2]\n",
            " [2 4 1 0]\n",
            " [2 3 1 3]]\n"
          ]
        }
      ]
    },
    {
      "cell_type": "code",
      "source": [
        "product = np.dot(matrix_3, matrix_4)"
      ],
      "metadata": {
        "id": "KD0Oim8CpUXc"
      },
      "execution_count": null,
      "outputs": []
    },
    {
      "cell_type": "code",
      "source": [
        "print(product)"
      ],
      "metadata": {
        "colab": {
          "base_uri": "https://localhost:8080/"
        },
        "id": "S8Ow9JJKpXib",
        "outputId": "022fee48-68dd-444e-a71a-36c9bca818f5"
      },
      "execution_count": null,
      "outputs": [
        {
          "output_type": "stream",
          "name": "stdout",
          "text": [
            "[[ 6 10  3  6]\n",
            " [18 24 11 16]\n",
            " [ 4  4  3  2]]\n"
          ]
        }
      ]
    },
    {
      "cell_type": "code",
      "source": [
        "product.shape"
      ],
      "metadata": {
        "colab": {
          "base_uri": "https://localhost:8080/"
        },
        "id": "mbMidMKdpaG-",
        "outputId": "6d61f135-9293-4d89-d1d3-91e0e96967db"
      },
      "execution_count": null,
      "outputs": [
        {
          "output_type": "execute_result",
          "data": {
            "text/plain": [
              "(3, 4)"
            ]
          },
          "metadata": {},
          "execution_count": 35
        }
      ]
    },
    {
      "cell_type": "code",
      "source": [
        "# create two matrices with random values\n",
        "matrix_3 = np.random.randint(5, size=(3,3))\n",
        "matrix_4 = np.random.randint(5, size=(4,4))"
      ],
      "metadata": {
        "id": "kCKFK0XfpdoV"
      },
      "execution_count": null,
      "outputs": []
    },
    {
      "cell_type": "code",
      "source": [
        "product = np.dot(matrix_3, matrix_4)"
      ],
      "metadata": {
        "colab": {
          "base_uri": "https://localhost:8080/",
          "height": 141
        },
        "id": "-ZLtFeKXphKB",
        "outputId": "a2894f02-9ec5-4182-ff38-d9dea64d7818"
      },
      "execution_count": null,
      "outputs": [
        {
          "output_type": "error",
          "ename": "ValueError",
          "evalue": "shapes (3,3) and (4,4) not aligned: 3 (dim 1) != 4 (dim 0)",
          "traceback": [
            "\u001b[0;31m---------------------------------------------------------------------------\u001b[0m",
            "\u001b[0;31mValueError\u001b[0m                                Traceback (most recent call last)",
            "\u001b[0;32m<ipython-input-37-bda2f76d7bdb>\u001b[0m in \u001b[0;36m<cell line: 0>\u001b[0;34m()\u001b[0m\n\u001b[0;32m----> 1\u001b[0;31m \u001b[0mproduct\u001b[0m \u001b[0;34m=\u001b[0m \u001b[0mnp\u001b[0m\u001b[0;34m.\u001b[0m\u001b[0mdot\u001b[0m\u001b[0;34m(\u001b[0m\u001b[0mmatrix_3\u001b[0m\u001b[0;34m,\u001b[0m \u001b[0mmatrix_4\u001b[0m\u001b[0;34m)\u001b[0m\u001b[0;34m\u001b[0m\u001b[0;34m\u001b[0m\u001b[0m\n\u001b[0m",
            "\u001b[0;31mValueError\u001b[0m: shapes (3,3) and (4,4) not aligned: 3 (dim 1) != 4 (dim 0)"
          ]
        }
      ]
    },
    {
      "cell_type": "markdown",
      "source": [
        "have not same dimension\n"
      ],
      "metadata": {
        "id": "7ZUTAMfHp3RT"
      }
    },
    {
      "cell_type": "markdown",
      "source": [
        "**Element wise Matrix Multiplication**"
      ],
      "metadata": {
        "id": "u-EsqL85p-HB"
      }
    },
    {
      "cell_type": "code",
      "source": [
        "# create two matrices with random values\n",
        "matrix_3 = np.random.randint(5, size=(3,3))\n",
        "matrix_4 = np.random.randint(5, size=(3,3))"
      ],
      "metadata": {
        "id": "kD74cL1kpkWj"
      },
      "execution_count": null,
      "outputs": []
    },
    {
      "cell_type": "code",
      "source": [
        "print(matrix_3)"
      ],
      "metadata": {
        "colab": {
          "base_uri": "https://localhost:8080/"
        },
        "id": "4MjdNLiMqDvj",
        "outputId": "304e65ba-5b35-43a8-c91a-4560b2a37cc5"
      },
      "execution_count": null,
      "outputs": [
        {
          "output_type": "stream",
          "name": "stdout",
          "text": [
            "[[3 3 2]\n",
            " [4 4 4]\n",
            " [4 1 3]]\n"
          ]
        }
      ]
    },
    {
      "cell_type": "code",
      "source": [
        "print(matrix_4)"
      ],
      "metadata": {
        "colab": {
          "base_uri": "https://localhost:8080/"
        },
        "id": "zDhEjVwBqGfy",
        "outputId": "11a7a5a1-1f1c-46b5-d188-c45c38d14314"
      },
      "execution_count": null,
      "outputs": [
        {
          "output_type": "stream",
          "name": "stdout",
          "text": [
            "[[3 1 1]\n",
            " [4 4 2]\n",
            " [4 3 0]]\n"
          ]
        }
      ]
    },
    {
      "cell_type": "code",
      "source": [
        "product = np.multiply(matrix_3, matrix_4)"
      ],
      "metadata": {
        "id": "R-TiSKhOqKTh"
      },
      "execution_count": null,
      "outputs": []
    },
    {
      "cell_type": "code",
      "source": [
        "print(product)"
      ],
      "metadata": {
        "colab": {
          "base_uri": "https://localhost:8080/"
        },
        "id": "ESMRKQPTqN9u",
        "outputId": "b46c2bdb-4280-4eda-c783-49af0b7d16b3"
      },
      "execution_count": null,
      "outputs": [
        {
          "output_type": "stream",
          "name": "stdout",
          "text": [
            "[[ 9  3  2]\n",
            " [16 16  8]\n",
            " [16  3  0]]\n"
          ]
        }
      ]
    },
    {
      "cell_type": "code",
      "source": [
        "# create two matrices with random values\n",
        "matrix_3 = np.random.randint(5, size=(3,3))\n",
        "matrix_4 = np.random.randint(5, size=(3,4))"
      ],
      "metadata": {
        "id": "VQNJMx-UqRhC"
      },
      "execution_count": null,
      "outputs": []
    },
    {
      "cell_type": "code",
      "source": [
        "product = np.multiply(matrix_3, matrix_4)"
      ],
      "metadata": {
        "colab": {
          "base_uri": "https://localhost:8080/",
          "height": 141
        },
        "id": "IJ7Q4oPAqVFb",
        "outputId": "8dcea8ba-712c-46d8-f1fa-6aba5e75156a"
      },
      "execution_count": null,
      "outputs": [
        {
          "output_type": "error",
          "ename": "ValueError",
          "evalue": "operands could not be broadcast together with shapes (3,3) (3,4) ",
          "traceback": [
            "\u001b[0;31m---------------------------------------------------------------------------\u001b[0m",
            "\u001b[0;31mValueError\u001b[0m                                Traceback (most recent call last)",
            "\u001b[0;32m<ipython-input-44-995ad717ef8e>\u001b[0m in \u001b[0;36m<cell line: 0>\u001b[0;34m()\u001b[0m\n\u001b[0;32m----> 1\u001b[0;31m \u001b[0mproduct\u001b[0m \u001b[0;34m=\u001b[0m \u001b[0mnp\u001b[0m\u001b[0;34m.\u001b[0m\u001b[0mmultiply\u001b[0m\u001b[0;34m(\u001b[0m\u001b[0mmatrix_3\u001b[0m\u001b[0;34m,\u001b[0m \u001b[0mmatrix_4\u001b[0m\u001b[0;34m)\u001b[0m\u001b[0;34m\u001b[0m\u001b[0;34m\u001b[0m\u001b[0m\n\u001b[0m",
            "\u001b[0;31mValueError\u001b[0m: operands could not be broadcast together with shapes (3,3) (3,4) "
          ]
        }
      ]
    },
    {
      "cell_type": "code",
      "source": [],
      "metadata": {
        "id": "r2Jv3GflqX6o"
      },
      "execution_count": null,
      "outputs": []
    }
  ]
}